{
 "cells": [
  {
   "cell_type": "code",
   "execution_count": 1,
   "metadata": {
    "collapsed": false
   },
   "outputs": [
    {
     "name": "stdout",
     "output_type": "stream",
     "text": [
      "Extracting MNIST_data/train-images-idx3-ubyte.gz\n",
      "Extracting MNIST_data/train-labels-idx1-ubyte.gz\n",
      "Extracting MNIST_data/t10k-images-idx3-ubyte.gz\n",
      "Extracting MNIST_data/t10k-labels-idx1-ubyte.gz\n"
     ]
    }
   ],
   "source": [
    "import tensorflow as tf\n",
    "import tensorflow.contrib.slim as slim\n",
    "import math\n",
    "\n",
    "from tensorflow.examples.tutorials.mnist import input_data\n",
    "mnist = input_data.read_data_sets('MNIST_data', one_hot=True)"
   ]
  },
  {
   "cell_type": "code",
   "execution_count": 2,
   "metadata": {
    "collapsed": false
   },
   "outputs": [],
   "source": [
    "# initialize data\n",
    "\n",
    "images = mnist.train.images\n",
    "labels = mnist.train.labels\n",
    "\n",
    "images = images.reshape(images.shape[0], 28,28, 1)\n",
    "\n",
    "num_datapoints = images.shape[0]\n",
    "\n",
    "validation_images = mnist.validation.images\n",
    "validation_images = validation_images.reshape(\n",
    "    validation_images.shape[0], 28, 28, 1\n",
    ")\n",
    "validation_labels = mnist.validation.labels\n"
   ]
  },
  {
   "cell_type": "code",
   "execution_count": 3,
   "metadata": {
    "collapsed": false
   },
   "outputs": [],
   "source": [
    "# define model\n",
    "\n",
    "def run_net(images):\n",
    "    net = slim.layers.conv2d(images, 32, [5,5], scope='conv1')\n",
    "    net = slim.layers.max_pool2d(net, [2,2], scope='pool1')\n",
    "    net = slim.layers.conv2d(net, 64, [5,5], scope='conv2')\n",
    "    net = slim.layers.max_pool2d(net, [2,2], scope='pool2')\n",
    "    net = slim.layers.flatten(net, scope='flatten3')\n",
    "    net = slim.layers.fully_connected(net, 1024, scope='fully_connected4')\n",
    "    net = slim.dropout(net, 0.5, scope='dropout5')\n",
    "    net = slim.layers.fully_connected(net, 10, activation_fn=None, scope='fully_connected6')\n",
    "    return net\n",
    "\n",
    "x = tf.placeholder(tf.float32, shape=[None, 28, 28, 1])\n",
    "y = tf.placeholder(tf.float32, shape=[None, 10])\n",
    "predictions = run_net(x)\n",
    "total_loss = tf.nn.softmax_cross_entropy_with_logits(\n",
    "    logits=predictions,labels=y\n",
    ")\n",
    "\n",
    "correct = tf.equal(tf.argmax(predictions,1), tf.argmax(y,1))\n",
    "accuracy = tf.reduce_mean(tf.cast(correct, tf.float32))\n",
    "\n",
    "learn_rate = 0.001\n",
    "train_step = tf.train.AdamOptimizer(learn_rate).minimize(total_loss)"
   ]
  },
  {
   "cell_type": "code",
   "execution_count": 4,
   "metadata": {
    "collapsed": false
   },
   "outputs": [
    {
     "name": "stdout",
     "output_type": "stream",
     "text": [
      "datapoints: 55000\n",
      "epochs: 1\n",
      "iterations: 1100\n",
      "iteration: 0, training accuracy 0.17080000042915344\n",
      "iteration: 100, training accuracy 0.9277999997138977\n",
      "iteration: 200, training accuracy 0.9613999724388123\n",
      "iteration: 300, training accuracy 0.973800003528595\n",
      "iteration: 400, training accuracy 0.972599983215332\n",
      "iteration: 500, training accuracy 0.9757999777793884\n",
      "iteration: 600, training accuracy 0.9765999913215637\n",
      "iteration: 700, training accuracy 0.9801999926567078\n",
      "iteration: 800, training accuracy 0.984000027179718\n",
      "iteration: 900, training accuracy 0.9801999926567078\n",
      "iteration: 1000, training accuracy 0.9819999933242798\n"
     ]
    }
   ],
   "source": [
    "# train model\n",
    "\n",
    "batch_size = 50\n",
    "\n",
    "epochs = 1\n",
    "iterations = math.ceil(epochs * num_datapoints / batch_size)\n",
    "print (\"datapoints: {}\".format(num_datapoints))\n",
    "print (\"epochs: {}\".format(epochs))\n",
    "print (\"iterations: {}\".format(iterations))\n",
    "\n",
    "sess = tf.Session()\n",
    "sess.run(tf.global_variables_initializer())\n",
    "for i in range(iterations):\n",
    "    batch = mnist.train.next_batch(batch_size)\n",
    "    batch_images = batch[0].reshape(batch_size, 28, 28, 1).tolist()\n",
    "    batch_labels = batch[1]\n",
    "\n",
    "    sess.run(train_step, feed_dict={x: batch_images, y:batch_labels})\n",
    "\n",
    "    if i%100 == 0:\n",
    "        train_accuracy = sess.run(\n",
    "            accuracy,\n",
    "            feed_dict={x: validation_images, y:validation_labels}\n",
    "        )\n",
    "        print(\"iteration: {}, training accuracy {}\"\n",
    "              .format(i, train_accuracy))\n"
   ]
  },
  {
   "cell_type": "code",
   "execution_count": 5,
   "metadata": {
    "collapsed": false
   },
   "outputs": [
    {
     "name": "stdout",
     "output_type": "stream",
     "text": [
      "test accuracy: 0.9840999841690063\n"
     ]
    }
   ],
   "source": [
    "# evalutate test data\n",
    "\n",
    "test_images = mnist.test.images\n",
    "test_images = test_images.reshape(test_images.shape[0], 28,28,1)\n",
    "test_labels = mnist.test.labels\n",
    "\n",
    "test_accuracy = sess.run(\n",
    "    accuracy,\n",
    "    feed_dict={x: test_images, y:test_labels}\n",
    ")\n",
    "\n",
    "print(\"test accuracy: {}\".format(test_accuracy))"
   ]
  }
 ],
 "metadata": {
  "kernelspec": {
   "display_name": "IPython (Python 3)",
   "language": "python",
   "name": "python3"
  },
  "language_info": {
   "codemirror_mode": {
    "name": "ipython",
    "version": 3
   },
   "file_extension": ".py",
   "mimetype": "text/x-python",
   "name": "python",
   "nbconvert_exporter": "python",
   "pygments_lexer": "ipython3",
   "version": "3.5.2"
  }
 },
 "nbformat": 4,
 "nbformat_minor": 2
}
